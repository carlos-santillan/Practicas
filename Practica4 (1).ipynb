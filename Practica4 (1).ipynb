{
 "cells": [
  {
   "cell_type": "code",
   "execution_count": 1,
   "id": "814ee40c",
   "metadata": {},
   "outputs": [
    {
     "name": "stdout",
     "output_type": "stream",
     "text": [
      "3628800\n"
     ]
    }
   ],
   "source": [
    "# ejemplo factorial de 10\n",
    "fac=1\n",
    "for x in range(1,11):\n",
    "    fac=fac*x\n",
    "\n",
    "print(fac)"
   ]
  },
  {
   "cell_type": "code",
   "execution_count": 3,
   "id": "e6501404",
   "metadata": {},
   "outputs": [
    {
     "name": "stdout",
     "output_type": "stream",
     "text": [
      "2450\n"
     ]
    }
   ],
   "source": [
    "# 2.- realice la suma de los numeros pares menores a 100\n",
    "suma=0\n",
    "for x in range(0,100):\n",
    "    div= x % 2\n",
    "    #print(div)\n",
    "    if (div==0):\n",
    "        suma=suma+x\n",
    "        \n",
    "print(suma)\n",
    "\n"
   ]
  },
  {
   "cell_type": "code",
   "execution_count": 2,
   "id": "57118733",
   "metadata": {},
   "outputs": [
    {
     "name": "stdout",
     "output_type": "stream",
     "text": [
      "2450\n"
     ]
    }
   ],
   "source": [
    "s=0\n",
    "for i  in range(0,100,2):\n",
    "    s+=i\n",
    "print(s)"
   ]
  },
  {
   "cell_type": "code",
   "execution_count": null,
   "id": "ae27b3ff",
   "metadata": {},
   "outputs": [],
   "source": []
  },
  {
   "cell_type": "code",
   "execution_count": 5,
   "id": "619f3395",
   "metadata": {},
   "outputs": [],
   "source": [
    "estaciones = {1620 : {'temp': 45, 'humedad': 15, 'oxigeno': 9.10, 'nitrogeno': 71.08, 'argon': 9.24, 'dioxido_carbono': 0.08}, \n",
    "         1621:{'temp': 35, 'humedad': 20, 'oxigeno': 46.26, 'nitrogeno': 40.24, 'argon': 4.75, 'dioxido_carbono': 0.29}, \n",
    "         1622:{'temp': 4, 'humedad': 27, 'oxigeno': 17.50, 'nitrogeno': 32.43, 'argon': 9.09, 'dioxido_carbono': 0.73},\n",
    "         1623:{'temp': 38, 'humedad': 22, 'oxigeno': 21.31, 'nitrogeno': 6.75, 'argon': 5.69, 'dioxido_carbono': 0.03},\n",
    "         1624:{'temp': 3, 'humedad': 7, 'oxigeno': 32.01, 'nitrogeno': 74.63, 'argon': 5.95, 'dioxido_carbono': 0.81},\n",
    "         1625:{'temp': 46, 'humedad': 17, 'oxigeno': 16.11, 'nitrogeno': 30.61, 'argon': 5.75, 'dioxido_carbono': 0.46},\n",
    "         1626:{'temp': 31, 'humedad': 23, 'oxigeno': 28.53, 'nitrogeno': 35.27, 'argon': 2.38, 'dioxido_carbono': 0.19},\n",
    "         1627:{'temp': 31, 'humedad': 30, 'oxigeno': 45.73, 'nitrogeno': 44.04, 'argon': 5.76, 'dioxido_carbono': 0.75},\n",
    "         1628:{'temp': 23, 'humedad': 26, 'oxigeno': 22.73, 'nitrogeno': 0.55, 'argon': 9.94, 'dioxido_carbono': 0.21},\n",
    "         1629:{'temp': 50, 'humedad': 20, 'oxigeno': 43.40, 'nitrogeno': 6.86, 'argon': 8.23, 'dioxido_carbono': 0.66},\n",
    "         1630:{'temp': 0, 'humedad': 7, 'oxigeno': 21.30, 'nitrogeno': 26.00, 'argon': 1.06, 'dioxido_carbono': 0.06},}"
   ]
  },
  {
   "cell_type": "code",
   "execution_count": 4,
   "id": "1db96653",
   "metadata": {},
   "outputs": [
    {
     "name": "stdout",
     "output_type": "stream",
     "text": [
      "45\n"
     ]
    }
   ],
   "source": [
    "print(estaciones[1620]['temp'])"
   ]
  },
  {
   "cell_type": "code",
   "execution_count": 10,
   "id": "b6a3bfc0",
   "metadata": {},
   "outputs": [
    {
     "name": "stdout",
     "output_type": "stream",
     "text": [
      "temp\t humedad\t oxigeno\t nitrogeno\t dioxido_carbono \t\n",
      "45\t 15\t\t 9.1\t\t 71.08\t\t \t0.08\t\t\n",
      "35\t 20\t\t 46.26\t\t 40.24\t\t \t0.29\t\t\n",
      "4\t 27\t\t 17.5\t\t 32.43\t\t \t0.73\t\t\n",
      "38\t 22\t\t 21.31\t\t 6.75\t\t \t0.03\t\t\n",
      "3\t 7\t\t 32.01\t\t 74.63\t\t \t0.81\t\t\n",
      "46\t 17\t\t 16.11\t\t 30.61\t\t \t0.46\t\t\n",
      "31\t 23\t\t 28.53\t\t 35.27\t\t \t0.19\t\t\n",
      "31\t 30\t\t 45.73\t\t 44.04\t\t \t0.75\t\t\n",
      "23\t 26\t\t 22.73\t\t 0.55\t\t \t0.21\t\t\n",
      "50\t 20\t\t 43.4\t\t 6.86\t\t \t0.66\t\t\n",
      "0\t 7\t\t 21.3\t\t 26.0\t\t \t0.06\t\t\n"
     ]
    }
   ],
   "source": [
    "print(f'temp\\t humedad\\t oxigeno\\t nitrogeno\\t dioxido_carbono \\t')  # la /t es caracter de esca1pe, es un tabulador\n",
    "for x in range(1620,1631):\n",
    "    print(f'{estaciones[x][\"temp\"]}\\t {estaciones[x][\"humedad\"]}\\t\\t {estaciones[x][\"oxigeno\"]}\\t\\t {estaciones[x][\"nitrogeno\"]}\\t\\t \\t{estaciones[x][\"dioxido_carbono\"]}\\t\\t')  # la /t es caracter de esca1pe, es un tabulador\n",
    "    \n"
   ]
  },
  {
   "cell_type": "code",
   "execution_count": null,
   "id": "93a36791",
   "metadata": {},
   "outputs": [],
   "source": []
  },
  {
   "cell_type": "code",
   "execution_count": 6,
   "id": "60ac35b3",
   "metadata": {},
   "outputs": [],
   "source": [
    "tabla= {'Hidrogeno':{'simbolo':'H', 'grupo': 1, 'periodo': 1, 'numero_atomico': 1, 'masa atomica' : 1.007, 'protones':1, 'neutrones' : 0, 'electrones':1},\n",
    "       'Helio':{'simbolo':'He', 'grupo': 18, 'periodo': 1, 'numero_atomico': 2, 'masa atomica' : 4.002, 'protones':2 , 'neutrones' : 2, 'electrones':2},\n",
    "       'Litio':{'simbolo':'Li', 'grupo': 1, 'periodo': 2, 'numero_atomico': 3, 'masa atomica' : 6.941 ,'protones':3, 'neutrones' : 4, 'electrones':3},\n",
    "       'Berilio':{'simbolo':'Be', 'grupo': 2, 'periodo': 2, 'numero_atomico': 4, 'masa atomica' : 9.012 , 'protones':4, 'neutrones' : 5, 'electrones':4},\n",
    "       'Boro':{'simbolo':'B', 'grupo': 13, 'periodo': 2, 'numero_atomico': 5 , 'masa atomica' : 10.811, 'protones':5, 'neutrones' : 6, 'electrones':5},\n",
    "       'Carbono':{'simbolo':'C', 'grupo': 14, 'periodo': 2, 'numero_atomico': 6, 'masa atomica' : 12.010, 'protones':6, 'neutrones' : 6, 'electrones':6},\n",
    "       'Nitrogeno':{'simbolo':'N', 'grupo': 15, 'periodo': 2, 'numero_atomico': 7, 'masa atomica' : 14.006, 'protones':7, 'neutrones' : 7, 'electrones':7},\n",
    "       'Oxigeno':{'simbolo':'O', 'grupo': 16, 'periodo': 2, 'numero_atomico': 8, 'masa atomica' : 15.999, 'protones':8, 'neutrones' : 8, 'electrones':8},\n",
    "       'Fluor':{'simbolo':'F', 'grupo': 17, 'periodo': 2, 'numero_atomico': 9, 'masa atomica' : 18.998, 'protones':9, 'neutrones' : 9, 'electrones':9},\n",
    "       'Neon':{'simbolo':'Ne', 'grupo': 18, 'periodo': 2, 'numero_atomico': 10, 'masa atomica' : 20.178, 'protones':10, 'neutrones' : 10, 'electrones':10},\n",
    "       'Sodio':{'simbolo':'Na', 'grupo': 1, 'periodo': 3, 'numero_atomico': 11, 'masa atomica' : 22.989, 'protones':11, 'neutrones' : 11, 'electrones':11},\n",
    "       'Magnesio':{'simbolo':'Mg', 'grupo': 2, 'periodo': 3, 'numero_atomico': 12, 'masa atomica' : 24.305, 'protones':12 , 'neutrones' : 12, 'electrones':12},\n",
    "       'Aluminio':{'simbolo':'Al', 'grupo': 13, 'periodo': 3, 'numero_atomico': 13, 'masa atomica' : 26.981 ,'protones':13, 'neutrones' : 14, 'electrones':13},\n",
    "       'Silicio':{'simbolo':'Si', 'grupo': 14, 'periodo': 3, 'numero_atomico': 14, 'masa atomica' : 28.085 , 'protones':14, 'neutrones' : 14, 'electrones':14},\n",
    "       'Fosforo':{'simbolo':'P', 'grupo': 15, 'periodo': 3, 'numero_atomico': 15 , 'masa atomica' : 30.976, 'protones':15, 'neutrones' : 16, 'electrones':15},\n",
    "       'Azufre':{'simbolo':'S', 'grupo': 16, 'periodo': 3, 'numero_atomico': 16, 'masa atomica' : 32.065, 'protones':16, 'neutrones' : 16, 'electrones':16},\n",
    "       'Cloro':{'simbolo':'Cl', 'grupo': 17, 'periodo': 3, 'numero_atomico': 17, 'masa atomica' : 35.453, 'protones':17, 'neutrones' : 18, 'electrones':17},\n",
    "       'Argon':{'simbolo':'Ar', 'grupo': 18, 'periodo': 3, 'numero_atomico': 18, 'masa atomica' : 39.948, 'protones':18, 'neutrones' : 22, 'electrones':18},\n",
    "       \n",
    "        'Potasio':{'simbolo':'K', 'grupo': 1, 'periodo': 4, 'numero_atomico': 19, 'masa atomica' : 39.098, 'protones':19, 'neutrones' : 20, 'electrones':19},\n",
    "        'Calcio':{'simbolo':'Ca', 'grupo': 2, 'periodo': 4, 'numero_atomico': 20, 'masa atomica' : 40.078, 'protones':20 , 'neutrones' : 20, 'electrones':20},\n",
    "       \n",
    "        'Escandio':{'simbolo':'Sc', 'grupo': 3, 'periodo': 4, 'numero_atomico': 21, 'masa atomica' : 44.955, 'protones':21, 'neutrones' : 24, 'electrones':21},\n",
    "       'Titanio':{'simbolo':'Ti', 'grupo': 4, 'periodo': 4, 'numero_atomico': 22, 'masa atomica' : 47.867, 'protones':22 , 'neutrones' : 26, 'electrones':22},\n",
    "       'Vanadio':{'simbolo':'V', 'grupo': 5, 'periodo': 4, 'numero_atomico': 23, 'masa atomica' : 50.941 ,'protones':23, 'neutrones' : 28, 'electrones':23},\n",
    "       'Cromo':{'simbolo':'Cr', 'grupo': 6, 'periodo': 4, 'numero_atomico': 24, 'masa atomica' : 51.996, 'protones':24, 'neutrones' : 28, 'electrones':24},\n",
    "       'Manganeso':{'simbolo':'Mn', 'grupo': 7, 'periodo': 4, 'numero_atomico': 25 , 'masa atomica' : 54.938, 'protones':25, 'neutrones' : 30, 'electrones':25},\n",
    "       'Hierro':{'simbolo':'Fe', 'grupo': 8, 'periodo': 4, 'numero_atomico': 26, 'masa atomica' : 55.845, 'protones':26, 'neutrones' : 30, 'electrones':26},\n",
    "       'Cobalto':{'simbolo':'Co', 'grupo': 9, 'periodo': 4, 'numero_atomico': 27, 'masa atomica' : 58.933, 'protones':27, 'neutrones' : 32, 'electrones':27},\n",
    "       'Niquel':{'simbolo':'Ni', 'grupo': 10, 'periodo': 4, 'numero_atomico': 28, 'masa atomica' : 58.693, 'protones':28, 'neutrones' : 31, 'electrones':28},\n",
    "       'Cobre':{'simbolo':'Cu', 'grupo': 11, 'periodo': 4, 'numero_atomico': 29, 'masa atomica' : 63.546, 'protones':29, 'neutrones' : 34, 'electrones':29},\n",
    "       'Zinc':{'simbolo':'Zn', 'grupo': 12, 'periodo': 4, 'numero_atomico': 30, 'masa atomica' : 65.38, 'protones':30, 'neutrones' : 35, 'electrones':30},\n",
    "       \n",
    "        'Galio':{'simbolo':'Ga', 'grupo': 13, 'periodo': 4, 'numero_atomico': 31, 'masa atomica' : 69.723 ,'protones':31, 'neutrones' : 39, 'electrones':31},\n",
    "       'Germanio':{'simbolo':'Ge', 'grupo': 14, 'periodo': 4, 'numero_atomico': 32, 'masa atomica' : 72.64 , 'protones':32, 'neutrones' : 41, 'electrones':32},\n",
    "       'Arsenico':{'simbolo':'As', 'grupo': 15, 'periodo': 4, 'numero_atomico': 33 , 'masa atomica' : 74.921, 'protones':33, 'neutrones' : 42, 'electrones':33},\n",
    "       'Selenio':{'simbolo':'Se', 'grupo': 16, 'periodo': 4, 'numero_atomico': 34, 'masa atomica' : 78.96, 'protones':34, 'neutrones' : 45, 'electrones':34},\n",
    "       'Bromo':{'simbolo':'Br', 'grupo': 17, 'periodo': 4, 'numero_atomico': 35, 'masa atomica' : 79.904, 'protones':35, 'neutrones' : 45, 'electrones':35},\n",
    "       'Kripton':{'simbolo':'Kr', 'grupo': 18, 'periodo': 4, 'numero_atomico': 36, 'masa atomica' : 83.798, 'protones':36, 'neutrones' : 48, 'electrones':36}}"
   ]
  },
  {
   "cell_type": "code",
   "execution_count": 7,
   "id": "87d53668",
   "metadata": {},
   "outputs": [
    {
     "name": "stdout",
     "output_type": "stream",
     "text": [
      "Cobre\n",
      "Zinc\n",
      "Galio\n"
     ]
    }
   ],
   "source": [
    "for elemento in tabla.keys():\n",
    "    registro=tabla[elemento]['masa atomica']\n",
    "    if registro>60 and registro<70:\n",
    "        print(elemento)\n",
    "\n",
    "    "
   ]
  },
  {
   "cell_type": "code",
   "execution_count": null,
   "id": "d7c1dabe",
   "metadata": {},
   "outputs": [],
   "source": []
  },
  {
   "cell_type": "code",
   "execution_count": 12,
   "id": "9b3ec282",
   "metadata": {},
   "outputs": [],
   "source": [
    "#id,mediciones\n",
    "datos =[[1060,42.81,97.45,1.51,27.35,94.84,83.89,17.10,9.32,90.75,27.91,22.81,88.65,12.17,26.23,45.91],\n",
    "[1061,43.17,63.68,42.19,81.52,34.06,13.57,31.19,20.58,89.18,30.10,70.64,50.70],\n",
    "[1062,0.11,82.45,90.95,79.91,98.47,83.40,27.13,90.51,85.33,90.91,31.93,37.09],\n",
    "[1063,17.53,22.70,31.95,11.73,50.23,8.49,81.14,16.57,75.02,0.97,75.58],\n",
    "[1064,96.04,48.02,73.73,24.08,86.71,46.35,10.06,17.88,36.02,11.64,43.11,85.93,48.23,18.07],\n",
    "[1065,70.71,19.80,9.40,5.44,92.88,35.00,20.94,24.02,34.90,37.48],\n",
    "[1066,18.35,60.93,3.60,43.70,53.91,6.93,81.17,86.19,81.06,57.61,2.79,48.73,62.99,64.34],\n",
    "[1067,58.11,94.78,30.56,34.66,73.71,75.47,42.67,51.34,58.26,12.73,73.75,77.87],\n",
    "[1068,96.85,0.35,80.76,60.36,29.27,26.99,18.46,60.21,80.78,66.15,44.36,28.69,63.35,60.69],\n",
    "[1069,94.10,69.18,12.50,11.59,43.89,95.48,20.72,80.68,0.66,50.22,84.55,33.10,82.77],\n",
    "[1070,8.25,87.54,14.89,39.66,1.17,20.65,30.55,80.13,42.25,28.35,87.19,94.85,51.09,41.26],\n",
    "[1071,83.11,88.05,23.79,44.36,73.97,50.50,92.45,85.89,42.47,19.58],\n",
    "[1072,91.87,82.33,12.36,32.84,18.64,94.05,4.23,13.74,39.77,26.91,34.24,66.81,82.25,91.11],\n",
    "[1073,14.47,22.42,14.27,86.74,94.07,30.66,91.67,37.42,60.61,94.67,62.92,90.91,1.79],\n",
    "[1074,15.15,7.94,20.93,73.96,99.89,61.03,81.66,16.52,48.01,27.87,8.54,7.80,2.05,66.89]]"
   ]
  },
  {
   "cell_type": "code",
   "execution_count": 13,
   "id": "6f72e529",
   "metadata": {},
   "outputs": [
    {
     "name": "stdout",
     "output_type": "stream",
     "text": [
      "{1060: [42.81, 97.45, 1.51, 27.35, 94.84, 83.89, 17.1, 9.32, 90.75, 27.91, 22.81, 88.65, 12.17, 26.23, 45.91]}\n"
     ]
    }
   ],
   "source": [
    "datos2={}\n",
    "datos2[1060]=[42.81,97.45,1.51,27.35,94.84,83.89,17.10,9.32,90.75,27.91,22.81,88.65,12.17,26.23,45.91]\n",
    "print(datos2)"
   ]
  },
  {
   "cell_type": "code",
   "execution_count": 17,
   "id": "97466f7a",
   "metadata": {},
   "outputs": [
    {
     "name": "stdout",
     "output_type": "stream",
     "text": [
      "{1060: [42.81, 97.45, 1.51, 27.35, 94.84, 83.89, 17.1, 9.32, 90.75, 27.91, 22.81, 88.65, 12.17, 26.23, 45.91], 1061: [43.17, 63.68, 42.19, 81.52, 34.06, 13.57, 31.19, 20.58, 89.18, 30.1, 70.64, 50.7], 1062: [0.11, 82.45, 90.95, 79.91, 98.47, 83.4, 27.13, 90.51, 85.33, 90.91, 31.93, 37.09], 1063: [17.53, 22.7, 31.95, 11.73, 50.23, 8.49, 81.14, 16.57, 75.02, 0.97, 75.58], 1064: [96.04, 48.02, 73.73, 24.08, 86.71, 46.35, 10.06, 17.88, 36.02, 11.64, 43.11, 85.93, 48.23, 18.07], 1065: [70.71, 19.8, 9.4, 5.44, 92.88, 35.0, 20.94, 24.02, 34.9, 37.48], 1066: [18.35, 60.93, 3.6, 43.7, 53.91, 6.93, 81.17, 86.19, 81.06, 57.61, 2.79, 48.73, 62.99, 64.34], 1067: [58.11, 94.78, 30.56, 34.66, 73.71, 75.47, 42.67, 51.34, 58.26, 12.73, 73.75, 77.87], 1068: [96.85, 0.35, 80.76, 60.36, 29.27, 26.99, 18.46, 60.21, 80.78, 66.15, 44.36, 28.69, 63.35, 60.69], 1069: [94.1, 69.18, 12.5, 11.59, 43.89, 95.48, 20.72, 80.68, 0.66, 50.22, 84.55, 33.1, 82.77], 1070: [8.25, 87.54, 14.89, 39.66, 1.17, 20.65, 30.55, 80.13, 42.25, 28.35, 87.19, 94.85, 51.09, 41.26], 1071: [83.11, 88.05, 23.79, 44.36, 73.97, 50.5, 92.45, 85.89, 42.47, 19.58], 1072: [91.87, 82.33, 12.36, 32.84, 18.64, 94.05, 4.23, 13.74, 39.77, 26.91, 34.24, 66.81, 82.25, 91.11], 1073: [14.47, 22.42, 14.27, 86.74, 94.07, 30.66, 91.67, 37.42, 60.61, 94.67, 62.92, 90.91, 1.79], 1074: [15.15, 7.94, 20.93, 73.96, 99.89, 61.03, 81.66, 16.52, 48.01, 27.87, 8.54, 7.8, 2.05, 66.89]}\n"
     ]
    }
   ],
   "source": [
    "tablay={}\n",
    "for registro in datos:\n",
    "    tablay[registro[0]]=registro[1:]\n",
    "print(tablay)\n",
    "    \n"
   ]
  },
  {
   "cell_type": "code",
   "execution_count": 21,
   "id": "2f3247fc",
   "metadata": {},
   "outputs": [
    {
     "name": "stdout",
     "output_type": "stream",
     "text": [
      "Estacion\t Promedio\t\t Maximo\t\t Minimo\t\t Numero de Mediciones \t\n",
      "1060\t\t45.91333\t\t97.45\t\t 1.51\t\t\t 15\t\t\n",
      "1061\t\t47.54833\t\t89.18\t\t 13.57\t\t\t 12\t\t\n",
      "1062\t\t66.51583\t\t98.47\t\t 0.11\t\t\t 12\t\t\n",
      "1063\t\t35.62818\t\t81.14\t\t 0.97\t\t\t 11\t\t\n",
      "1064\t\t46.13357\t\t96.04\t\t 10.06\t\t\t 14\t\t\n",
      "1065\t\t35.05700\t\t92.88\t\t 5.44\t\t\t 10\t\t\n",
      "1066\t\t48.02143\t\t86.19\t\t 2.79\t\t\t 14\t\t\n",
      "1067\t\t56.99250\t\t94.78\t\t 12.73\t\t\t 12\t\t\n",
      "1068\t\t51.23357\t\t96.85\t\t 0.35\t\t\t 14\t\t\n",
      "1069\t\t52.26462\t\t95.48\t\t 0.66\t\t\t 13\t\t\n",
      "1070\t\t44.84500\t\t94.85\t\t 1.17\t\t\t 14\t\t\n",
      "1071\t\t60.41700\t\t92.45\t\t 19.58\t\t\t 10\t\t\n",
      "1072\t\t49.36786\t\t94.05\t\t 4.23\t\t\t 14\t\t\n",
      "1073\t\t54.04769\t\t94.67\t\t 1.79\t\t\t 13\t\t\n",
      "1074\t\t38.44571\t\t99.89\t\t 2.05\t\t\t 14\t\t\n"
     ]
    }
   ],
   "source": [
    "print(f'Estacion\\t Promedio\\t\\t Maximo\\t\\t Minimo\\t\\t Numero de Mediciones \\t')  # la /t es caracter de esca1pe, es un tabulador\n",
    "for registro in datos:\n",
    "    p=sum(registro[1:])/len(registro[1:])\n",
    "    l=len(registro[1:])\n",
    "    ma=max(registro[1:])\n",
    "    mi=min(registro[1:])\n",
    "    print(f'{registro[0]}\\t\\t{p:.5f}\\t\\t{ma}\\t\\t {mi}\\t\\t\\t {l}\\t\\t')  # la /t es caracter de esca1pe, es un tabulador\n",
    "\n",
    "    \n",
    "    "
   ]
  },
  {
   "cell_type": "code",
   "execution_count": null,
   "id": "0a69501c",
   "metadata": {},
   "outputs": [],
   "source": []
  }
 ],
 "metadata": {
  "kernelspec": {
   "display_name": "Python 3 (ipykernel)",
   "language": "python",
   "name": "python3"
  },
  "language_info": {
   "codemirror_mode": {
    "name": "ipython",
    "version": 3
   },
   "file_extension": ".py",
   "mimetype": "text/x-python",
   "name": "python",
   "nbconvert_exporter": "python",
   "pygments_lexer": "ipython3",
   "version": "3.9.13"
  }
 },
 "nbformat": 4,
 "nbformat_minor": 5
}
